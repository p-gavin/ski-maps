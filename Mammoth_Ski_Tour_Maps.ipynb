{
  "nbformat": 4,
  "nbformat_minor": 0,
  "metadata": {
    "colab": {
      "provenance": [],
      "authorship_tag": "ABX9TyODuKgQxX6s7DllPcoe+qQX",
      "include_colab_link": true
    },
    "kernelspec": {
      "name": "python3",
      "display_name": "Python 3"
    },
    "language_info": {
      "name": "python"
    }
  },
  "cells": [
    {
      "cell_type": "markdown",
      "metadata": {
        "id": "view-in-github",
        "colab_type": "text"
      },
      "source": [
        "<a href=\"https://colab.research.google.com/github/p-gavin/ski-maps/blob/main/Mammoth_Ski_Tour_Maps.ipynb\" target=\"_parent\"><img src=\"https://colab.research.google.com/assets/colab-badge.svg\" alt=\"Open In Colab\"/></a>"
      ]
    },
    {
      "cell_type": "code",
      "execution_count": 2,
      "metadata": {
        "id": "YdVrousmnDea"
      },
      "outputs": [],
      "source": [
        "from bs4 import BeautifulSoup\n",
        "import lxml\n",
        "import requests\n",
        "\n",
        "\n",
        "url = \"https://web.thebackcountry.com/category/backcountry-ski/eastern-sierra/\"\n",
        "html = requests.get(url).text\n",
        "soup = BeautifulSoup(html, \"html.parser\")"
      ]
    },
    {
      "cell_type": "code",
      "source": [
        "from tabulate import tabulate\n",
        "from pprint import pprint\n",
        "from googlesearch import search\n",
        "from IPython.display import display, Markdown, clear_output\n",
        "\n",
        "\n",
        "def get_caltopo_maps(objective: str) -> list[str]:\n",
        "  maps = []\n",
        "  search_string = f\"{objective} caltopo\"\n",
        "  results = search(search_string, num=10, stop=10, pause=2)\n",
        "  for i in results:\n",
        "    if \"caltopo.com/m/\" in i:\n",
        "      maps.append(str(i))\n",
        "  return maps\n",
        "\n",
        "class ParameterIterator:\n",
        "    def __init__(self, obj):\n",
        "        self._params = vars(obj)\n",
        "        self._param_names = list(self._params.keys())\n",
        "        self._index = 0\n",
        "\n",
        "    def __iter__(self):\n",
        "        return self\n",
        "\n",
        "    def __next__(self):\n",
        "        if self._index < len(self._param_names):\n",
        "            param_name = self._param_names[self._index]\n",
        "            self._index += 1\n",
        "            if isinstance(self._params[param_name], list):\n",
        "              formatted = \"\"\n",
        "              for i in self._params[param_name]:\n",
        "                formatted += f\"{i}<br>\"\n",
        "              return formatted\n",
        "            return self._params[param_name]\n",
        "        else:\n",
        "            raise StopIteration\n",
        "\n",
        "class Tour:\n",
        "  def __init__(self, entry):\n",
        "    self.objective, self.elevation = entry.text.split('1', 1)\n",
        "    self.objective.strip()\n",
        "    self.elevation = int(\"1\" + self.elevation.split('′', 1)[0].split('’', 1)[0].replace(',', '').replace('.', ''))\n",
        "    self.maps = []\n",
        "    self.maps = get_caltopo_maps(self.objective)\n",
        "\n",
        "  def __iter__(self):\n",
        "    return ParameterIterator(self)\n",
        "\n",
        "  def table_headings(self):\n",
        "    return [\"Objective\", \"Elevation (ft)\", \"Maps\"]\n",
        "\n",
        "  def __repr__(self) -> str:\n",
        "    return f\"{self.objective}: {self.elevation} ft {len(self.maps)} maps\"\n",
        "\n",
        "tours = []\n",
        "for entry in soup.find_all(class_='entry-title'):\n",
        "  tours.append(Tour(entry))\n",
        "  clear_output()\n",
        "  display(Markdown(tabulate(tours, headers=tours[0].table_headings(), tablefmt=\"pipe\")))"
      ],
      "metadata": {
        "colab": {
          "base_uri": "https://localhost:8080/",
          "height": 1000
        },
        "id": "kbkOMklLo-xw",
        "outputId": "5e6abfe8-c1ec-4814-ee56-8ed87b39dcf8"
      },
      "execution_count": 60,
      "outputs": [
        {
          "output_type": "display_data",
          "data": {
            "text/plain": [
              "<IPython.core.display.Markdown object>"
            ],
            "text/markdown": "| Objective                                          |   Elevation (ft) | Maps                                                                                                                                                                                                                                               |\n|:---------------------------------------------------|-----------------:|:---------------------------------------------------------------------------------------------------------------------------------------------------------------------------------------------------------------------------------------------------|\n| Leavitt Peak                                       |            11569 | https://caltopo.com/m/TB2Q<br>https://caltopo.com/m/20NJ<br>https://caltopo.com/m/ST60<br>https://caltopo.com/m/0743<br>                                                                                                                           |\n| Striped                                            |            13150 | https://caltopo.com/m/1UEC<br>                                                                                                                                                                                                                     |\n| Sawtooths 3 day Loop – Finger – Whorl – Matterhorn |            12279 | https://caltopo.com/m/3Q0B<br>https://caltopo.com/m/UVTM<br>                                                                                                                                                                                       |\n| Mt. Walt                                           |            11480 | https://caltopo.com/m/T00S1<br>                                                                                                                                                                                                                    |\n| Dana Peak                                          |            13061 | https://caltopo.com/m/QM6K<br>https://caltopo.com/m/A397R<br>                                                                                                                                                                                      |\n| Mt. Locke                                          |            12500 |                                                                                                                                                                                                                                                    |\n| Mt. Langley                                        |            14042 | https://caltopo.com/m/4R81<br>https://caltopo.com/m/FR89GA5<br>https://caltopo.com/m/VJ4E<br>https://caltopo.com/m/KNL3D<br>https://caltopo.com/m/2KR0D<br>                                                                                        |\n| Mt. Tom                                            |            13652 | https://caltopo.com/m/J1DE<br>https://caltopo.com/m/3640P3A<br>                                                                                                                                                                                    |\n| Mt. Lewis                                          |            12342 | https://caltopo.com/m/JTNGG<br>https://caltopo.com/m/28FKHN4<br>                                                                                                                                                                                   |\n| Mt. Humphreys                                      |            13986 | https://caltopo.com/m/2HHC<br>https://caltopo.com/m/2097<br>https://caltopo.com/m/363Q<br>https://caltopo.com/m/BU1T41F<br>https://caltopo.com/m/SURB<br>                                                                                          |\n| Mt. Wood                                           |            12637 | https://caltopo.com/m/BVTA<br>https://caltopo.com/m/G9V6<br>https://caltopo.com/m/G5L12<br>https://caltopo.com/m/LF7E<br>                                                                                                                          |\n| Mt. Williamson                                     |            13375 | https://caltopo.com/m/UA4U<br>https://caltopo.com/m/1CKA<br>https://caltopo.com/m/KVQ1<br>                                                                                                                                                         |\n| Mt. Gabb                                           |            13471 | https://caltopo.com/m/PMS5F<br>https://caltopo.com/m/3HS1P<br>                                                                                                                                                                                     |\n| Pyramid Peak                                       |            11728 | https://caltopo.com/m/7373<br>https://caltopo.com/m/ASB9C<br>https://caltopo.com/m/1SE8U<br>                                                                                                                                                       |\n| Mt. Mills                                          |            13451 | https://caltopo.com/m/R1SB<br>https://caltopo.com/m/PHUL<br>                                                                                                                                                                                       |\n| Mt. Ritter                                         |            13143 | https://caltopo.com/m/2DECM<br>https://caltopo.com/m/5K9T<br>                                                                                                                                                                                      |\n| North Peak                                         |            12242 | https://caltopo.com/m/0D9M<br>https://caltopo.com/m/H0A96<br>https://caltopo.com/m/P04F3<br>https://caltopo.com/m/AV413<br>https://caltopo.com/m/60NJ<br>                                                                                          |\n| University Peak                                    |            13362 | https://caltopo.com/m/453H1<br>https://caltopo.com/m/LG1U<br>https://caltopo.com/m/26CP0<br>https://caltopo.com/m/DU4U<br>                                                                                                                         |\n| Mt. Tyndall                                        |            14018 | https://caltopo.com/m/DT99<br>https://caltopo.com/m/1PLSLR1<br>                                                                                                                                                                                    |\n| Mt. Gould                                          |            13000 | https://caltopo.com/m/2DGB<br>https://caltopo.com/m/K1F4<br>                                                                                                                                                                                       |\n| Mt. Lyell – Tuolumne                               |            13114 | https://caltopo.com/m/694E<br>https://caltopo.com/m/ED2B<br>                                                                                                                                                                                       |\n| Norman Clyde Couloir                               |            13000 | https://caltopo.com/m/2F94<br>                                                                                                                                                                                                                     |\n| Mammoth Peak & Kuna Crest                          |            12112 | https://caltopo.com/m/1K2Q1<br>https://caltopo.com/m/A8PN<br>                                                                                                                                                                                      |\n| Mt. Bolton Brown                                   |            13538 | https://caltopo.com/m/2JPU<br>                                                                                                                                                                                                                     |\n| Buck Mountain                                      |            12861 | https://caltopo.com/m/97CC<br>https://caltopo.com/m/2QCTU<br>                                                                                                                                                                                      |\n| Mt. Conness                                        |            12590 | https://caltopo.com/m/80HA<br>https://caltopo.com/m/J0DBC<br>https://caltopo.com/m/656N<br>                                                                                                                                                        |\n| Ice Lake Pass                                      |            10000 | https://caltopo.com/m/PSU6<br>https://caltopo.com/m/2MF0<br>https://caltopo.com/m/3J7F<br>                                                                                                                                                         |\n| Mt. Starr                                          |            12832 | https://caltopo.com/m/5C0B13J<br>https://caltopo.com/m/VF18<br>                                                                                                                                                                                    |\n| Mt. Dade                                           |            11732 |                                                                                                                                                                                                                                                    |\n| Mt. Morgan – South                                 |            13754 | https://caltopo.com/m/8E0E<br>https://caltopo.com/m/2T8P<br>                                                                                                                                                                                       |\n| Victoria Peak                                      |            11732 |                                                                                                                                                                                                                                                    |\n| Dragon Peak                                        |            12955 | https://caltopo.com/m/LBMTB<br>https://caltopo.com/m/PGK2<br>                                                                                                                                                                                      |\n| Independence Peak                                  |            11744 | https://caltopo.com/m/5458<br>https://caltopo.com/m/MTBT1<br>https://caltopo.com/m/LHKJ<br>                                                                                                                                                        |\n| Carson Peak                                        |            10909 | https://caltopo.com/m/FM63<br>https://caltopo.com/m/DEEU<br>                                                                                                                                                                                       |\n| Basin Peak                                         |            13240 | https://caltopo.com/m/S01J<br>https://caltopo.com/m/7U6H<br>https://caltopo.com/m/7R6C<br>https://caltopo.com/m/K061<br>https://caltopo.com/m/BFKJB<br>                                                                                            |\n| Mt. Goddard                                        |            13568 | https://caltopo.com/m/DG2Q<br>https://caltopo.com/m/L6GB<br>                                                                                                                                                                                       |\n| Virginia Peak                                      |            12001 | https://caltopo.com/m/0JA2<br>https://caltopo.com/m/536E<br>                                                                                                                                                                                       |\n| Mt. Whitney                                        |            14494 | https://caltopo.com/m/G37C<br>https://caltopo.com/m/6V2L<br>https://caltopo.com/m/US4S7<br>https://caltopo.com/m/257E<br>https://caltopo.com/m/M5KJ<br>https://caltopo.com/m/T3AE<br>https://caltopo.com/m/Q9DD<br>https://caltopo.com/m/KMSNM<br> |\n| Mt. Goode                                          |            13085 | https://caltopo.com/m/1QBF<br>https://caltopo.com/m/M7VB<br>https://caltopo.com/m/M0BM<br>https://caltopo.com/m/TTMG<br>https://caltopo.com/m/F42J<br>https://caltopo.com/m/8RA9T<br>https://caltopo.com/m/224VP<br>                               |\n| Mt. Sill                                           |            14153 | https://caltopo.com/m/129L<br>https://caltopo.com/m/R4E7S<br>https://caltopo.com/m/BTJS<br>https://caltopo.com/m/C9BGP<br>                                                                                                                         |\n| Kearsarge Peak                                     |            12618 | https://caltopo.com/m/DU4U<br>https://caltopo.com/m/LG1U<br>https://caltopo.com/m/66SR<br>                                                                                                                                                         |\n| Mt. Darwin                                         |            13831 | https://caltopo.com/m/RUSDU<br>                                                                                                                                                                                                                    |\n| Mt. Emerson                                        |            13225 | https://caltopo.com/m/UP0N<br>                                                                                                                                                                                                                     |\n| Feather Peak                                       |            13242 | https://caltopo.com/m/3F2KF<br>                                                                                                                                                                                                                    |\n| Esha Peak                                          |            12200 | https://caltopo.com/m/C634S<br>                                                                                                                                                                                                                    |\n| Mt. Johnson                                        |            12871 | https://caltopo.com/m/HV2MR<br>https://caltopo.com/m/E6CFQ<br>https://caltopo.com/m/31AF<br>                                                                                                                                                       |\n| Goodale Mountain                                   |            12772 | https://caltopo.com/m/C13R<br>https://caltopo.com/m/1QBF<br>https://caltopo.com/m/M0BM<br>https://caltopo.com/m/F42J<br>https://caltopo.com/m/8RA9T<br>                                                                                            |\n| Hunewill Peak                                      |            11171 | https://caltopo.com/m/NJFT<br>https://caltopo.com/m/SBHN<br>                                                                                                                                                                                       |\n| Kettle Peak                                        |            11010 | https://caltopo.com/m/56A4<br>https://caltopo.com/m/0G4G<br>https://caltopo.com/m/5335<br>                                                                                                                                                         |\n| Mt. McGee                                          |            10871 | https://caltopo.com/m/QBKH<br>https://caltopo.com/m/3KGG<br>https://caltopo.com/m/GKQ9V<br>                                                                                                                                                        |\n| Eocene Peak – Sawtooths                            |            11569 | https://caltopo.com/m/UT21<br>https://caltopo.com/m/53BG<br>                                                                                                                                                                                       |"
          },
          "metadata": {}
        }
      ]
    },
    {
      "cell_type": "markdown",
      "source": [
        "This one has a ton: https://caltopo.com/m/9FTA"
      ],
      "metadata": {
        "id": "xSotZ15L6clN"
      }
    }
  ]
}